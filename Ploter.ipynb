{
 "cells": [
  {
   "cell_type": "code",
   "execution_count": 1,
   "metadata": {
    "collapsed": true
   },
   "outputs": [],
   "source": [
    "import numpy as np\n",
    "import matplotlib.pyplot as plt\n",
    "from astropy.io import fits as pyfits\n",
    "import scipy.stats as sc\n",
    "%matplotlib inline"
   ]
  },
  {
   "cell_type": "code",
   "execution_count": 24,
   "metadata": {
    "collapsed": false
   },
   "outputs": [
    {
     "name": "stdout",
     "output_type": "stream",
     "text": [
      "[ '1.000000e-03 1.058815e+00 7.000000e-01 1.000000e-04 0.000000e+00 0.000000e+00 1.182015e+00'\n",
      " '1.000000e-03 1.032895e+00 7.000000e-01 1.000000e-04 0.000000e+00 0.000000e+00 -9.312074e-02'\n",
      " '1.000000e-03 1.817949e+00 8.025658e-01 1.000000e-04 2.327480e-01 0.000000e+00 4.764242e-01'\n",
      " ...,\n",
      " '1.000000e-03 7.862767e-01 8.861101e-01 2.904687e-01 -1.601868e+00 -2.704117e+00 -8.026106e-01'\n",
      " '1.000000e-03 7.851499e-01 8.868803e-01 2.917981e-01 -1.592414e+00 -2.711364e+00 8.828865e-02'\n",
      " '1.000000e-03 7.833200e-01 8.826751e-01 2.848612e-01 -1.542860e+00 -2.754426e+00 1.009490e+00']\n"
     ]
    }
   ],
   "source": [
    "data = np.genfromtxt('orbits_disk.csv' ,dtype=str ,delimiter=',')\n",
    "print data[:,0]"
   ]
  },
  {
   "cell_type": "code",
   "execution_count": null,
   "metadata": {
    "collapsed": true
   },
   "outputs": [],
   "source": [
    "plt.plot(orbits, average_e_disk)\n",
    "plt.plot(orbits, average_e_disk + std_e_disk)\n",
    "plt.plot(orbits, average_e_disk - std_e_disk)"
   ]
  }
 ],
 "metadata": {
  "kernelspec": {
   "display_name": "Python 2",
   "language": "python",
   "name": "python2"
  },
  "language_info": {
   "codemirror_mode": {
    "name": "ipython",
    "version": 2
   },
   "file_extension": ".py",
   "mimetype": "text/x-python",
   "name": "python",
   "nbconvert_exporter": "python",
   "pygments_lexer": "ipython2",
   "version": "2.7.10"
  }
 },
 "nbformat": 4,
 "nbformat_minor": 0
}
